{
 "cells": [
  {
   "cell_type": "markdown",
   "id": "d9974606",
   "metadata": {},
   "source": [
    "## Hyperparameter Tuning"
   ]
  },
  {
   "cell_type": "code",
   "execution_count": 1,
   "id": "9539f413",
   "metadata": {},
   "outputs": [],
   "source": [
    "#Lib\n",
    "\n",
    "import pandas as pd\n",
    "import numpy as np\n",
    "\n",
    "np.random.seed(42) #reproducibity\n",
    "\n",
    "import xgboost as xgb\n",
    "from sklearn.ensemble import RandomForestClassifier\n",
    "from sklearn.neighbors import KNeighborsClassifier\n",
    "from sklearn.naive_bayes import GaussianNB\n",
    "from sklearn.neural_network import MLPClassifier\n",
    "\n",
    "from sklearn.metrics import accuracy_score\n",
    "\n",
    "from sklearn.preprocessing import StandardScaler, OneHotEncoder\n",
    "from sklearn.model_selection import GridSearchCV  #tuning\n",
    "from sklearn.preprocessing import StandardScaler\n",
    "from sklearn.model_selection import train_test_split"
   ]
  },
  {
   "cell_type": "code",
   "execution_count": 2,
   "id": "2f81bc91",
   "metadata": {},
   "outputs": [],
   "source": [
    "selected_features = pd.read_csv(r'Dataset/Features selected/CICDDoS2019_Binary_RFClassifier_30.csv').squeeze()\n",
    "selected_features = selected_features[:21]\n"
   ]
  },
  {
   "cell_type": "code",
   "execution_count": 4,
   "id": "3e283c3d",
   "metadata": {},
   "outputs": [
    {
     "data": {
      "text/plain": [
       "(300000, 69)"
      ]
     },
     "execution_count": 4,
     "metadata": {},
     "output_type": "execute_result"
    }
   ],
   "source": [
    "#load binary encoded data \n",
    "CICDDoS2019_binary = pd.read_csv(r'Dataset/Encoded Dataset/CIC-DDoS2019_binary.csv')\n",
    "CICDDoS2019_binary.shape\n",
    "\n"
   ]
  },
  {
   "cell_type": "code",
   "execution_count": null,
   "id": "2153b7af",
   "metadata": {},
   "outputs": [],
   "source": []
  },
  {
   "cell_type": "code",
   "execution_count": 5,
   "id": "982e229d",
   "metadata": {},
   "outputs": [
    {
     "data": {
      "text/plain": [
       "(300000, 23)"
      ]
     },
     "execution_count": 5,
     "metadata": {},
     "output_type": "execute_result"
    }
   ],
   "source": [
    "# Create the 'columns' list using 'selected_features' and columns starting with 'Label_'\n",
    "columns = selected_features.tolist() + [col for col in CICDDoS2019_binary.columns if col.startswith('Label_')]\n",
    "\n",
    "# Use the 'columns' list to select specific columns from 'CICDDoS2019'\n",
    "CICDDoS2019_binary = CICDDoS2019_binary[columns]\n",
    "\n",
    "CICDDoS2019_binary.shape"
   ]
  },
  {
   "cell_type": "code",
   "execution_count": 6,
   "id": "d40ff128",
   "metadata": {},
   "outputs": [
    {
     "name": "stdout",
     "output_type": "stream",
     "text": [
      "<class 'pandas.core.frame.DataFrame'>\n",
      "RangeIndex: 300000 entries, 0 to 299999\n",
      "Data columns (total 23 columns):\n",
      " #   Column                       Non-Null Count   Dtype  \n",
      "---  ------                       --------------   -----  \n",
      " 0   Min Packet Length            300000 non-null  float64\n",
      " 1   Fwd Packet Length Mean       300000 non-null  float64\n",
      " 2   Fwd Packet Length Min        300000 non-null  float64\n",
      " 3   Avg Fwd Segment Size         300000 non-null  float64\n",
      " 4   Packet Length Mean           300000 non-null  float64\n",
      " 5   Average Packet Size          300000 non-null  float64\n",
      " 6   Inbound                      300000 non-null  int64  \n",
      " 7   Bwd Packets/s                300000 non-null  float64\n",
      " 8   Fwd Packet Length Max        300000 non-null  float64\n",
      " 9   Init_Win_bytes_forward       300000 non-null  int64  \n",
      " 10  URG Flag Count               300000 non-null  int64  \n",
      " 11  Subflow Bwd Packets          300000 non-null  int64  \n",
      " 12  Bwd IAT Mean                 300000 non-null  float64\n",
      " 13  Total Backward Packets       300000 non-null  int64  \n",
      " 14  Bwd Header Length            300000 non-null  int64  \n",
      " 15  Max Packet Length            300000 non-null  float64\n",
      " 16  Total Length of Fwd Packets  300000 non-null  float64\n",
      " 17  ACK Flag Count               300000 non-null  int64  \n",
      " 18  Protocol                     300000 non-null  int64  \n",
      " 19  Subflow Fwd Bytes            300000 non-null  int64  \n",
      " 20  Bwd IAT Max                  300000 non-null  float64\n",
      " 21  Label_benign                 300000 non-null  float64\n",
      " 22  Label_attack                 300000 non-null  float64\n",
      "dtypes: float64(14), int64(9)\n",
      "memory usage: 52.6 MB\n"
     ]
    }
   ],
   "source": [
    "CICDDoS2019_binary.info()"
   ]
  },
  {
   "cell_type": "code",
   "execution_count": 7,
   "id": "08c4621d",
   "metadata": {},
   "outputs": [
    {
     "name": "stdout",
     "output_type": "stream",
     "text": [
      "Class distribution for Label_benign:\n",
      "0.0    52620\n",
      "1.0    52380\n",
      "Name: Label_benign, dtype: int64\n",
      "\n",
      "Class distribution for Label_attack:\n",
      "1.0    52620\n",
      "0.0    52380\n",
      "Name: Label_attack, dtype: int64\n",
      "\n"
     ]
    }
   ],
   "source": [
    "# DDoS2019_binary = DDoS2019_binary.sample(frac=0.25).reset_index(drop=True)\n",
    "\n",
    "# DDoS2019_binary['Label'].value_counts()\n",
    "\n",
    "\n",
    "target_columns = [col for col in CICDDoS2019_binary.columns if col.startswith('Label_')]\n",
    "\n",
    "# Sample 10% of the data and reset the index\n",
    "CICDDoS2019_binary_sampled = CICDDoS2019_binary.sample(frac=0.35, random_state=42).reset_index(drop=True)\n",
    "\n",
    "# Print class distribution for each target column\n",
    "for column in target_columns:\n",
    "    print(f'Class distribution for {column}:')\n",
    "    print(CICDDoS2019_binary_sampled[column].value_counts())\n",
    "    print()"
   ]
  },
  {
   "cell_type": "code",
   "execution_count": 8,
   "id": "b95625b5",
   "metadata": {},
   "outputs": [],
   "source": [
    "# DDoS2019_binary_X = DDoS2019_binary.drop('Label', axis=1).copy()\n",
    "# DDoS2019_binary_y = DDoS2019_binary['Label'].copy()\n",
    "\n",
    "# DDoS2019_binary_train_X, DDoS2019_binary_test_X, DDoS2019_binary_train_y, DDoS2019_binary_test_y = train_test_split(DDoS2019_binary_X, DDoS2019_binary_y, test_size=0.3)\n",
    "\n",
    "\n",
    "# Separate features and labels\n",
    "DDoS2019_binary_X = CICDDoS2019_binary_sampled.drop(CICDDoS2019_binary_sampled.filter(regex='^Label_'), axis=1).copy()\n",
    "DDoS2019_binary_y = CICDDoS2019_binary_sampled[CICDDoS2019_binary_sampled.filter(regex='^Label_').columns].copy()\n",
    "\n",
    "# Split the dataset into training and testing sets\n",
    "DDoS2019_binary_train_X, DDoS2019_binary_test_X, DDoS2019_binary_train_y, DDoS2019_binary_test_y = train_test_split(DDoS2019_binary_X, DDoS2019_binary_y, test_size=0.2)\n",
    "\n"
   ]
  },
  {
   "cell_type": "code",
   "execution_count": 9,
   "id": "acf9f8e8",
   "metadata": {},
   "outputs": [],
   "source": [
    "scalar = StandardScaler()\n",
    "\n",
    "train_X_scaled = scalar.fit_transform(DDoS2019_binary_train_X)\n",
    "test_X_scaled = scalar.transform(DDoS2019_binary_test_X)\n"
   ]
  },
  {
   "cell_type": "markdown",
   "id": "30aa59a1",
   "metadata": {},
   "source": [
    "## K-Nearest Neighbour"
   ]
  },
  {
   "cell_type": "code",
   "execution_count": 10,
   "id": "644630a6",
   "metadata": {},
   "outputs": [
    {
     "name": "stdout",
     "output_type": "stream",
     "text": [
      "Optimum hyperparameters:\n",
      "{'algorithm': 'auto', 'metric': 'manhattan', 'n_neighbors': 5, 'weights': 'distance'}\n",
      "CPU times: total: 1.08 s\n",
      "Wall time: 2min 35s\n"
     ]
    }
   ],
   "source": [
    "%%time\n",
    "# Define the parameter space\n",
    "parameter_space = [\n",
    "    {'n_neighbors': [3, 5, 7],\n",
    "    'weights': ['uniform', 'distance'],\n",
    "    'metric': ['euclidean', 'manhattan'],\n",
    "    'algorithm': ['auto', 'ball_tree']\n",
    "    }\n",
    "]\n",
    "    \n",
    "    \n",
    "# Create the KNN classifier object\n",
    "knn = KNeighborsClassifier()\n",
    "\n",
    "# Create the GridSearchCV object\n",
    "optimal_knn = GridSearchCV(\n",
    "                        estimator=knn, \n",
    "                        param_grid=parameter_space,\n",
    "                        cv=5, \n",
    "                        scoring='accuracy', \n",
    "                        n_jobs=-1, \n",
    "                        verbose=0\n",
    ")\n",
    "\n",
    "# # Perform the grid search\n",
    "# start_time = time.time()\n",
    "optimal_knn.fit(train_X_scaled, DDoS2019_binary_train_y)\n",
    "# end_time = time.time()\n",
    "\n",
    "# Retrieve the best parameters\n",
    "knn_optimal_params = optimal_knn.best_params_\n",
    "print(\"Optimum hyperparameters:\")\n",
    "print(knn_optimal_params)\n",
    "# print(\"Execution time: {:.2f} seconds\".format(end_time - start_time))\n"
   ]
  },
  {
   "cell_type": "code",
   "execution_count": 20,
   "id": "63cd555a",
   "metadata": {},
   "outputs": [
    {
     "name": "stdout",
     "output_type": "stream",
     "text": [
      "Accuracy: 0.9995238095238095\n"
     ]
    }
   ],
   "source": [
    "\n",
    "# Make predictions on the test data\n",
    "y_pred = optimal_knn.predict(test_X_scaled)\n",
    "\n",
    "# Calculate accuracy\n",
    "accuracy = accuracy_score( DDoS2019_binary_test_y, y_pred)\n",
    "\n",
    "print(f\"Accuracy: {accuracy}\")"
   ]
  },
  {
   "cell_type": "markdown",
   "id": "6afe3079",
   "metadata": {},
   "source": [
    "  "
   ]
  },
  {
   "cell_type": "markdown",
   "id": "209a73fa",
   "metadata": {},
   "source": [
    "  "
   ]
  },
  {
   "cell_type": "markdown",
   "id": "c7f1c6d5",
   "metadata": {},
   "source": [
    "## Random Forest"
   ]
  },
  {
   "cell_type": "code",
   "execution_count": 11,
   "id": "ebc9b522",
   "metadata": {},
   "outputs": [
    {
     "name": "stdout",
     "output_type": "stream",
     "text": [
      "Optimum hyperparameters: \n",
      "{'criterion': 'entropy', 'max_depth': 30, 'min_samples_leaf': 1e-05, 'min_samples_split': 1e-05, 'n_estimators': 200}\n",
      "CPU times: total: 28.8 s\n",
      "Wall time: 37min 54s\n"
     ]
    }
   ],
   "source": [
    "%%time\n",
    "\n",
    "parameter_space = [\n",
    "    {'criterion': ['gini', 'entropy'],\n",
    "    'max_depth': [10, 20, 30],\n",
    "    'min_samples_leaf': [3, 0.0001, 0.0005, 0.00001], \n",
    "    'min_samples_split': [8, 0.0005, 0.0001, 0.00001], \n",
    "    'n_estimators': [ 200, 350, 400]\n",
    "    }\n",
    "]\n",
    "\n",
    "optimal_rf = GridSearchCV(\n",
    "                        RandomForestClassifier(),\n",
    "                        parameter_space, \n",
    "                        cv=5,\n",
    "                        scoring='accuracy',\n",
    "                        n_jobs=-1,\n",
    "                        verbose=0\n",
    ")\n",
    "\n",
    "optimal_rf.fit(train_X_scaled, DDoS2019_binary_train_y)\n",
    "rf_optimal_params = optimal_rf.best_params_\n",
    "print(f\"Optimum hyperparameters: \\n{rf_optimal_params}\")\n"
   ]
  },
  {
   "cell_type": "code",
   "execution_count": 21,
   "id": "954d314e",
   "metadata": {},
   "outputs": [
    {
     "name": "stdout",
     "output_type": "stream",
     "text": [
      "Accuracy: 0.9997619047619047\n"
     ]
    }
   ],
   "source": [
    "\n",
    "# Make predictions on the test data\n",
    "y_pred = optimal_rf.predict(test_X_scaled)\n",
    "\n",
    "# Calculate accuracy\n",
    "accuracy = accuracy_score( DDoS2019_binary_test_y, y_pred)\n",
    "\n",
    "print(f\"Accuracy: {accuracy}\")"
   ]
  },
  {
   "cell_type": "markdown",
   "id": "47629145",
   "metadata": {},
   "source": [
    "  "
   ]
  },
  {
   "cell_type": "markdown",
   "id": "975c3e2a",
   "metadata": {},
   "source": [
    "  "
   ]
  },
  {
   "cell_type": "markdown",
   "id": "e79b5d40",
   "metadata": {},
   "source": [
    "## Artificial Neural Network"
   ]
  },
  {
   "cell_type": "code",
   "execution_count": 12,
   "id": "3675831c",
   "metadata": {},
   "outputs": [
    {
     "name": "stdout",
     "output_type": "stream",
     "text": [
      "Optimum hyperparameters: \n",
      "{'activation': 'tanh', 'alpha': 1e-05, 'hidden_layer_sizes': (50,), 'max_iter': 500, 'solver': 'adam'}\n",
      "CPU times: total: 27min 41s\n",
      "Wall time: 1h 1min 10s\n"
     ]
    }
   ],
   "source": [
    "%%time\n",
    "\n",
    "parameter_space = [\n",
    "    {'hidden_layer_sizes': [(10,), (20,), (30,), (40,), (50,)],\n",
    "    'activation': ['tanh', 'relu', 'logistic'],\n",
    "    'solver': ['adam', 'sgd'],\n",
    "    'alpha': [0.0001, 0.001, 0.00001],\n",
    "    'max_iter': [200, 500, 1000] }\n",
    "]\n",
    "\n",
    "ann = MLPClassifier()\n",
    "\n",
    "optimal_ann = GridSearchCV(\n",
    "                        ann,\n",
    "                        parameter_space, \n",
    "                        cv=5,\n",
    "                        n_jobs=-1,\n",
    "                        verbose=0\n",
    ")\n",
    "\n",
    "optimal_ann.fit(train_X_scaled, DDoS2019_binary_train_y)\n",
    "ann_optimal_params = optimal_ann.best_params_\n",
    "print(f\"Optimum hyperparameters: \\n{ann_optimal_params}\")"
   ]
  },
  {
   "cell_type": "code",
   "execution_count": 19,
   "id": "d216d9af",
   "metadata": {},
   "outputs": [
    {
     "name": "stdout",
     "output_type": "stream",
     "text": [
      "Accuracy: 0.9957619047619047\n"
     ]
    }
   ],
   "source": [
    "\n",
    "# Make predictions on the test data\n",
    "y_pred = optimal_ann.predict(test_X_scaled)\n",
    "\n",
    "# Calculate accuracy\n",
    "accuracy = accuracy_score( DDoS2019_binary_test_y, y_pred)\n",
    "\n",
    "print(f\"Accuracy: {accuracy}\")"
   ]
  },
  {
   "cell_type": "markdown",
   "id": "d37c99a5",
   "metadata": {},
   "source": [
    "  "
   ]
  },
  {
   "cell_type": "markdown",
   "id": "70e17946",
   "metadata": {},
   "source": [
    "## Deep Neural Network"
   ]
  },
  {
   "cell_type": "code",
   "execution_count": 13,
   "id": "91f4ce4f",
   "metadata": {},
   "outputs": [
    {
     "name": "stdout",
     "output_type": "stream",
     "text": [
      "Optimum hyperparameters: \n",
      "{'activation': 'tanh', 'alpha': 0.001, 'hidden_layer_sizes': (12, 12, 12), 'max_iter': 1000, 'solver': 'adam'}\n",
      "CPU times: total: 1min 29s\n",
      "Wall time: 1h 23min 48s\n"
     ]
    }
   ],
   "source": [
    "%%time\n",
    "\n",
    "parameter_space = [\n",
    "    {'hidden_layer_sizes': [(10,10, 10), (12, 12, 12), (15, 15, 15), (8, 8, 8, 8), (10, 10, 10, 10)],\n",
    "    'activation': ['tanh', 'relu', 'logistic'],\n",
    "    'solver': ['adam', 'sgd'],\n",
    "    'alpha': [0.0001, 0.00001, 0.001],\n",
    "    'max_iter': [100, 500, 1000]}\n",
    "]\n",
    "\n",
    "dnn = MLPClassifier()\n",
    "\n",
    "optimal_dnn = GridSearchCV(\n",
    "                        dnn,\n",
    "                        parameter_space, \n",
    "                        cv=5,\n",
    "                        n_jobs=-1,\n",
    "                        verbose=0\n",
    ")\n",
    "\n",
    "optimal_dnn.fit(train_X_scaled, DDoS2019_binary_train_y)\n",
    "dnn_optimal_params = optimal_dnn.best_params_\n",
    "print(f\"Optimum hyperparameters: \\n{dnn_optimal_params}\")"
   ]
  },
  {
   "cell_type": "code",
   "execution_count": 18,
   "id": "75d526f6",
   "metadata": {},
   "outputs": [
    {
     "name": "stdout",
     "output_type": "stream",
     "text": [
      "Accuracy: 0.9971904761904762\n"
     ]
    }
   ],
   "source": [
    "\n",
    "# Make predictions on the test data\n",
    "y_pred = optimal_dnn.predict(test_X_scaled)\n",
    "\n",
    "# Calculate accuracy\n",
    "accuracy = accuracy_score( DDoS2019_binary_test_y, y_pred)\n",
    "\n",
    "print(f\"Accuracy: {accuracy}\")"
   ]
  },
  {
   "cell_type": "markdown",
   "id": "cd3b6eb9",
   "metadata": {},
   "source": [
    "  "
   ]
  },
  {
   "cell_type": "markdown",
   "id": "c7fe9917",
   "metadata": {},
   "source": [
    "  "
   ]
  },
  {
   "cell_type": "markdown",
   "id": "55432486",
   "metadata": {},
   "source": [
    "## eXtreme Gradient Boosting"
   ]
  },
  {
   "cell_type": "code",
   "execution_count": 14,
   "id": "aac04d4b",
   "metadata": {},
   "outputs": [
    {
     "name": "stdout",
     "output_type": "stream",
     "text": [
      "Optimum hyperparameters: \n",
      "{'colsample_bytree': 0.9, 'learning_rate': 0.3, 'max_depth': 4, 'min_child_weight': 1, 'n_estimators': 400, 'subsample': 0.9}\n",
      "CPU times: total: 10min\n",
      "Wall time: 1h 12min 40s\n"
     ]
    }
   ],
   "source": [
    "%%time\n",
    "\n",
    "\n",
    "# Define the parameter space for grid search\n",
    "parameter_space = [\n",
    "    {'n_estimators': [300, 400, 500],  # Number of boosting rounds\n",
    "    'learning_rate': [0.1, 0.2, 0.3],  # Learning rate (eta)\n",
    "    'max_depth': [3, 4, 5],  # Maximum tree depth\n",
    "    'min_child_weight': [1, 2, 3],  # Minimum sum of instance weight needed in a child\n",
    "    'subsample': [0.8, 0.9],  # Subsample ratio of the training instances\n",
    "    'colsample_bytree': [0.8, 0.9] }\n",
    "]\n",
    "\n",
    "# Create the XGBoost classifier\n",
    "xgb_model = xgb.XGBClassifier()\n",
    "\n",
    "# Perform grid search with cross-validation\n",
    "optimal_xgb = GridSearchCV(\n",
    "                        xgb_model,\n",
    "                        parameter_space, \n",
    "                        cv=5,\n",
    "                        n_jobs=-1,\n",
    "                        verbose=0\n",
    ")\n",
    "\n",
    "optimal_xgb.fit(train_X_scaled, DDoS2019_binary_train_y)\n",
    "xgb_optimal_params = optimal_xgb.best_params_\n",
    "print(f\"Optimum hyperparameters: \\n{xgb_optimal_params}\")\n"
   ]
  },
  {
   "cell_type": "code",
   "execution_count": 17,
   "id": "12c2de07",
   "metadata": {},
   "outputs": [
    {
     "name": "stdout",
     "output_type": "stream",
     "text": [
      "Accuracy: 0.9999047619047619\n"
     ]
    }
   ],
   "source": [
    "\n",
    "# Make predictions on the test data\n",
    "y_pred = optimal_xgb.predict(test_X_scaled)\n",
    "\n",
    "# Calculate accuracy\n",
    "accuracy = accuracy_score( DDoS2019_binary_test_y, y_pred)\n",
    "\n",
    "print(f\"Accuracy: {accuracy}\")"
   ]
  },
  {
   "cell_type": "code",
   "execution_count": null,
   "id": "f29997a7",
   "metadata": {},
   "outputs": [],
   "source": [
    "# %%time\n",
    "\n",
    "# dtrain = xgb.DMatrix(DDoS2019_binary_X, label=DDoS2019_binary['Label'])\n",
    "\n",
    "# # Define the parameter space for grid search\n",
    "# parameter_space = {\n",
    "#     'n_estimators': [200, 500, 500],  # Number of boosting rounds\n",
    "#     'learning_rate': [0.1, 0.2, 0.3],  # Learning rate (eta)\n",
    "#     'max_depth': [3, 4, 5],  # Maximum tree depth\n",
    "#     'min_child_weight': [1, 2, 3],  # Minimum sum of instance weight needed in a child\n",
    "#     'subsample': [0.8, 0.9],  # Subsample ratio of the training instances\n",
    "#     'colsample_bytree': [0.8, 0.9]  \n",
    "# }\n",
    "\n",
    "# # Create the XGBoost classifier\n",
    "# xgb_model = xgb.XGBClassifier()\n",
    "\n",
    "# # Perform grid search with cross-validation\n",
    "# optimal_xgb = GridSearchCV(\n",
    "#     xgb_model,\n",
    "#     parameter_space, \n",
    "#     cv=5,\n",
    "#     n_jobs=-1,\n",
    "#     verbose=0\n",
    "# )\n",
    "\n",
    "# optimal_xgb.fit(train_X_scaled, DDoS2019_binary_train_y)\n",
    "# xgb_optimal_params = optimal_xgb.best_params_\n",
    "# print(f\"Optimum hyperparameters: \\n{xgb_optimal_params}\")\n"
   ]
  },
  {
   "cell_type": "code",
   "execution_count": null,
   "id": "142bf432",
   "metadata": {},
   "outputs": [],
   "source": []
  }
 ],
 "metadata": {
  "kernelspec": {
   "display_name": "Python 3",
   "language": "python",
   "name": "python3"
  },
  "language_info": {
   "codemirror_mode": {
    "name": "ipython",
    "version": 3
   },
   "file_extension": ".py",
   "mimetype": "text/x-python",
   "name": "python",
   "nbconvert_exporter": "python",
   "pygments_lexer": "ipython3",
   "version": "3.6.13"
  }
 },
 "nbformat": 4,
 "nbformat_minor": 5
}
