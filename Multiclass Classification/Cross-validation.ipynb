{
 "cells": [
  {
   "cell_type": "markdown",
   "id": "16c98908",
   "metadata": {},
   "source": [
    "## Cross-validation"
   ]
  },
  {
   "cell_type": "markdown",
   "id": "8e518a5b",
   "metadata": {},
   "source": [
    "The aim of this notebook is to validate accuracy of the training models using cross validation"
   ]
  },
  {
   "cell_type": "code",
   "execution_count": null,
   "id": "3c2aab14",
   "metadata": {
    "id": "c921f051"
   },
   "outputs": [],
   "source": [
    "import pandas as pd\n",
    "import numpy as np\n",
    "\n",
    "import os\n",
    "from sklearn.model_selection import train_test_split, cross_val_score, learning_curve\n",
    "from sklearn.preprocessing import StandardScaler\n",
    "from sklearn.model_selection import KFold\n",
    "\n",
    "from sklearn.ensemble import RandomForestClassifier\n",
    "from sklearn.neighbors import KNeighborsClassifier\n",
    "from sklearn.neural_network import MLPClassifier\n",
    "import xgboost as xgb\n",
    "\n",
    "\n",
    "# silent the warning from the sklearn library\n",
    "import warnings\n",
    "warnings.filterwarnings('ignore')\n",
    "\n",
    "import random # import random package to specify the random seed\n",
    "\n",
    "random.seed(10) # ensure reproducibilty\n",
    "np.random.seed(10)\n",
    "\n",
    "# to interpret the training result\n",
    "from sklearn import metrics\n",
    "import matplotlib.pyplot as plt\n",
    "%matplotlib inline"
   ]
  },
  {
   "cell_type": "code",
   "execution_count": null,
   "id": "c47456f3",
   "metadata": {
    "id": "34b864f6"
   },
   "outputs": [],
   "source": [
    "selected_features = pd.read_csv(r'/content/drive/MyDrive/Multiclass_Win_Latest/Dataset/Feature selected/CICDDoS2019_Multiclass_RFClassifier_30.csv').squeeze()\n",
    "selected_features = selected_features[:20]"
   ]
  },
  {
   "cell_type": "code",
   "execution_count": null,
   "id": "6485b30a",
   "metadata": {
    "colab": {
     "base_uri": "https://localhost:8080/"
    },
    "executionInfo": {
     "elapsed": 23558,
     "status": "ok",
     "timestamp": 1688394610671,
     "user": {
      "displayName": "iriscky98",
      "userId": "16293290607355471057"
     },
     "user_tz": -480
    },
    "id": "cgxnPyTPd8MY",
    "outputId": "1f93cf92-bc53-40fc-ab9d-622e504ee06e"
   },
   "outputs": [
    {
     "name": "stdout",
     "output_type": "stream",
     "text": [
      "Mounted at /content/drive\n"
     ]
    }
   ],
   "source": [
    "from google.colab import drive\n",
    "drive.mount('/content/drive')"
   ]
  },
  {
   "cell_type": "code",
   "execution_count": null,
   "id": "32bb3d19",
   "metadata": {
    "colab": {
     "base_uri": "https://localhost:8080/"
    },
    "executionInfo": {
     "elapsed": 6340,
     "status": "ok",
     "timestamp": 1688394643256,
     "user": {
      "displayName": "iriscky98",
      "userId": "16293290607355471057"
     },
     "user_tz": -480
    },
    "id": "3a104962",
    "outputId": "b0facd31-8ed8-44c0-af3c-836e570214c8"
   },
   "outputs": [
    {
     "data": {
      "text/plain": [
       "(300000, 32)"
      ]
     },
     "execution_count": 4,
     "metadata": {},
     "output_type": "execute_result"
    }
   ],
   "source": [
    "CICDDoS2019 = pd.read_csv(r'/content/drive/MyDrive/Multiclass_Win_Latest/Dataset/Encoded Dataset/CIC-DDoS2019_multi.csv')\n",
    "\n",
    "# Create the 'columns' list using 'selected_features' and columns starting with 'Label_'\n",
    "columns = selected_features.tolist() + [col for col in CICDDoS2019.columns if col.startswith('Label_')]\n",
    "\n",
    "# Use the 'columns' list to select specific columns from 'CICDDoS2019'\n",
    "CICDDoS2019 = CICDDoS2019[columns]\n",
    "\n",
    "CICDDoS2019.shape\n"
   ]
  },
  {
   "cell_type": "code",
   "execution_count": null,
   "id": "d450b4ce",
   "metadata": {
    "colab": {
     "base_uri": "https://localhost:8080/"
    },
    "executionInfo": {
     "elapsed": 6,
     "status": "ok",
     "timestamp": 1688394645801,
     "user": {
      "displayName": "iriscky98",
      "userId": "16293290607355471057"
     },
     "user_tz": -480
    },
    "id": "9e11273d",
    "outputId": "996ee3b0-56c1-4862-9465-769d45ab8de4"
   },
   "outputs": [
    {
     "name": "stdout",
     "output_type": "stream",
     "text": [
      "<class 'pandas.core.frame.DataFrame'>\n",
      "RangeIndex: 300000 entries, 0 to 299999\n",
      "Data columns (total 32 columns):\n",
      " #   Column                       Non-Null Count   Dtype  \n",
      "---  ------                       --------------   -----  \n",
      " 0   Avg Fwd Segment Size         300000 non-null  float64\n",
      " 1   Min Packet Length            300000 non-null  float64\n",
      " 2   Fwd Packet Length Max        300000 non-null  float64\n",
      " 3   Fwd Packet Length Mean       300000 non-null  float64\n",
      " 4   Average Packet Size          300000 non-null  float64\n",
      " 5   Packet Length Mean           300000 non-null  float64\n",
      " 6   Max Packet Length            300000 non-null  float64\n",
      " 7   Fwd Packet Length Min        300000 non-null  float64\n",
      " 8   Total Length of Fwd Packets  300000 non-null  float64\n",
      " 9   Subflow Fwd Bytes            300000 non-null  int64  \n",
      " 10  Flow Bytes/s                 300000 non-null  float64\n",
      " 11  ACK Flag Count               300000 non-null  int64  \n",
      " 12  Fwd IAT Total                300000 non-null  float64\n",
      " 13  Fwd IAT Std                  300000 non-null  float64\n",
      " 14  Flow IAT Mean                300000 non-null  float64\n",
      " 15  Fwd IAT Mean                 300000 non-null  float64\n",
      " 16  act_data_pkt_fwd             300000 non-null  int64  \n",
      " 17  Flow IAT Std                 300000 non-null  float64\n",
      " 18  Flow Duration                300000 non-null  int64  \n",
      " 19  Init_Win_bytes_forward       300000 non-null  int64  \n",
      " 20  Label_BENIGN                 300000 non-null  float64\n",
      " 21  Label_DrDoS_DNS              300000 non-null  float64\n",
      " 22  Label_DrDoS_LDAP             300000 non-null  float64\n",
      " 23  Label_DrDoS_MSSQL            300000 non-null  float64\n",
      " 24  Label_DrDoS_NTP              300000 non-null  float64\n",
      " 25  Label_DrDoS_NetBIOS          300000 non-null  float64\n",
      " 26  Label_DrDoS_SNMP             300000 non-null  float64\n",
      " 27  Label_DrDoS_SSDP             300000 non-null  float64\n",
      " 28  Label_DrDoS_UDP              300000 non-null  float64\n",
      " 29  Label_Syn                    300000 non-null  float64\n",
      " 30  Label_TFTP                   300000 non-null  float64\n",
      " 31  Label_UDP-lag                300000 non-null  float64\n",
      "dtypes: float64(27), int64(5)\n",
      "memory usage: 73.2 MB\n"
     ]
    }
   ],
   "source": [
    "CICDDoS2019.info()"
   ]
  },
  {
   "cell_type": "code",
   "execution_count": null,
   "id": "2af1ddfd",
   "metadata": {
    "colab": {
     "base_uri": "https://localhost:8080/"
    },
    "executionInfo": {
     "elapsed": 322,
     "status": "ok",
     "timestamp": 1688394648187,
     "user": {
      "displayName": "iriscky98",
      "userId": "16293290607355471057"
     },
     "user_tz": -480
    },
    "id": "1d745f2c",
    "outputId": "8603d1c7-27a3-4b71-808d-a17db1c21c81"
   },
   "outputs": [
    {
     "name": "stdout",
     "output_type": "stream",
     "text": [
      "Class distribution for Label_BENIGN:\n",
      "0.0    110041\n",
      "1.0      9959\n",
      "Name: Label_BENIGN, dtype: int64\n",
      "\n",
      "Class distribution for Label_DrDoS_DNS:\n",
      "0.0    110015\n",
      "1.0      9985\n",
      "Name: Label_DrDoS_DNS, dtype: int64\n",
      "\n",
      "Class distribution for Label_DrDoS_LDAP:\n",
      "0.0    110001\n",
      "1.0      9999\n",
      "Name: Label_DrDoS_LDAP, dtype: int64\n",
      "\n",
      "Class distribution for Label_DrDoS_MSSQL:\n",
      "0.0    110038\n",
      "1.0      9962\n",
      "Name: Label_DrDoS_MSSQL, dtype: int64\n",
      "\n",
      "Class distribution for Label_DrDoS_NTP:\n",
      "0.0    109969\n",
      "1.0     10031\n",
      "Name: Label_DrDoS_NTP, dtype: int64\n",
      "\n",
      "Class distribution for Label_DrDoS_NetBIOS:\n",
      "0.0    110018\n",
      "1.0      9982\n",
      "Name: Label_DrDoS_NetBIOS, dtype: int64\n",
      "\n",
      "Class distribution for Label_DrDoS_SNMP:\n",
      "0.0    109894\n",
      "1.0     10106\n",
      "Name: Label_DrDoS_SNMP, dtype: int64\n",
      "\n",
      "Class distribution for Label_DrDoS_SSDP:\n",
      "0.0    109993\n",
      "1.0     10007\n",
      "Name: Label_DrDoS_SSDP, dtype: int64\n",
      "\n",
      "Class distribution for Label_DrDoS_UDP:\n",
      "0.0    110009\n",
      "1.0      9991\n",
      "Name: Label_DrDoS_UDP, dtype: int64\n",
      "\n",
      "Class distribution for Label_Syn:\n",
      "0.0    109861\n",
      "1.0     10139\n",
      "Name: Label_Syn, dtype: int64\n",
      "\n",
      "Class distribution for Label_TFTP:\n",
      "0.0    110067\n",
      "1.0      9933\n",
      "Name: Label_TFTP, dtype: int64\n",
      "\n",
      "Class distribution for Label_UDP-lag:\n",
      "0.0    110094\n",
      "1.0      9906\n",
      "Name: Label_UDP-lag, dtype: int64\n",
      "\n"
     ]
    }
   ],
   "source": [
    "# CICDDoS2019 = CICDDoS2019.sample(frac=0.3).reset_index(drop=True)\n",
    "\n",
    "target_columns = [col for col in CICDDoS2019.columns if col.startswith('Label_')]\n",
    "\n",
    "# Sample 10% of the data and reset the index\n",
    "CICDDoS2019_sampled = CICDDoS2019.sample(frac=0.4, random_state=42).reset_index(drop=True)\n",
    "\n",
    "# Print class distribution for each target column\n",
    "for column in target_columns:\n",
    "    print(f'Class distribution for {column}:')\n",
    "    print(CICDDoS2019_sampled[column].value_counts())\n",
    "    print()\n"
   ]
  },
  {
   "cell_type": "code",
   "execution_count": null,
   "id": "58039a4e",
   "metadata": {
    "id": "d6b5b9d9"
   },
   "outputs": [],
   "source": [
    "\n",
    "# Separate features and labels\n",
    "DDoS2019_X = CICDDoS2019_sampled.drop(CICDDoS2019_sampled.filter(regex='^Label_'), axis=1).copy() #drop column with prefixed Label_\n",
    "DDoS2019_y = CICDDoS2019_sampled[CICDDoS2019_sampled.filter(regex='^Label_').columns].copy()\n",
    "\n",
    "# Split the dataset into training and testing sets\n",
    "# DDoS2019_train_X, DDoS2019_test_X, DDoS2019_train_y, DDoS2019_test_y = train_test_split(DDoS2019_X, DDoS2019_y, test_size=0.3)\n"
   ]
  },
  {
   "cell_type": "code",
   "execution_count": null,
   "id": "269376ff",
   "metadata": {
    "id": "bb966636"
   },
   "outputs": [],
   "source": [
    "#normalisation\n",
    "\n",
    "scalar = StandardScaler()\n",
    "# only fit the training data\n",
    "DDoS2019_X_scaled = scalar.fit_transform(DDoS2019_X)\n"
   ]
  },
  {
   "cell_type": "markdown",
   "id": "f32c526b",
   "metadata": {},
   "source": [
    "  "
   ]
  },
  {
   "cell_type": "markdown",
   "id": "9110020a",
   "metadata": {},
   "source": [
    "### Build the optimised models for validation"
   ]
  },
  {
   "cell_type": "code",
   "execution_count": null,
   "id": "14b37a96",
   "metadata": {
    "id": "5ccd6788"
   },
   "outputs": [],
   "source": [
    "\n",
    "models = {\n",
    "    'k-Nearesr Neighbour': KNeighborsClassifier(n_neighbors=5, weights='distance', metric='euclidean', leaf_size=30, p=1),\n",
    "    'Random Forest': RandomForestClassifier(max_depth=30, min_samples_leaf=1e-05, min_samples_split=1e-05, n_estimators=200, n_jobs=-1,criterion='gini'),\n",
    "    'Artificial Neural Network': MLPClassifier(hidden_layer_sizes=(50,), activation='relu', alpha=0.001, solver='adam', max_iter=500),\n",
    "    'Deep Neural Network': MLPClassifier(hidden_layer_sizes=(10, 10, 10, 10), activation='relu', alpha=0.0001, solver='adam', max_iter=1000),\n",
    "    'XGBoost': xgb.XGBClassifier(colsample_bytree=0.9, learning_rate=0.4, max_depth=6, min_child_weight=1, subsample=0.9, n_estimators=400)\n",
    "}\n",
    "\n"
   ]
  },
  {
   "cell_type": "markdown",
   "id": "f1f011bf",
   "metadata": {},
   "source": [
    "  "
   ]
  },
  {
   "cell_type": "markdown",
   "id": "aca1ad77",
   "metadata": {},
   "source": [
    "### k-fold cross validation, k = 10"
   ]
  },
  {
   "cell_type": "code",
   "execution_count": null,
   "id": "22eca093",
   "metadata": {
    "colab": {
     "background_save": true,
     "base_uri": "https://localhost:8080/"
    },
    "id": "4da65f3c",
    "scrolled": false
   },
   "outputs": [
    {
     "name": "stdout",
     "output_type": "stream",
     "text": [
      "------------------------- k-Nearesr Neighbour -------------------------\n",
      "Accuracy: [0.73916667 0.73733333 0.77808333 0.7515     0.73941667 0.7555\n",
      " 0.73975    0.76183333 0.74041667 0.74783333]\n",
      "mean: 0.7491\t\tstd: 0.0124\n",
      "------------------------- Random Forest -------------------------\n",
      "Accuracy: [0.684      0.69491667 0.68216667 0.67766667 0.68441667 0.6795\n",
      " 0.6845     0.68016667 0.68216667 0.68258333]\n",
      "mean: 0.6832\t\tstd: 0.0044\n",
      "------------------------- Artificial Neural Network -------------------------\n",
      "Accuracy: [0.612      0.602      0.65425    0.6325     0.58458333 0.67358333\n",
      " 0.5705     0.61216667 0.59025    0.64633333]\n",
      "mean: 0.6178\t\tstd: 0.0314\n",
      "------------------------- Deep Neural Network -------------------------\n",
      "Accuracy: [0.62533333 0.61508333 0.64466667 0.6295     0.60775    0.61566667\n",
      " 0.56375    0.58966667 0.5885     0.63541667]\n",
      "mean: 0.6115\t\tstd: 0.0235\n"
     ]
    }
   ],
   "source": [
    "accuracy_scores = {}\n",
    "accuracy_scores_mean = {}\n",
    "accuracy_scores_std = {}\n",
    "\n",
    "cv = KFold(n_splits=10, shuffle=True)\n",
    "\n",
    "for model in models:\n",
    "    clf = models[model]\n",
    "\n",
    "    accuracy_scores[model] = cross_val_score(clf,\n",
    "                                            DDoS2019_X_scaled,\n",
    "                                            DDoS2019_y.values,\n",
    "                                            cv=cv,\n",
    "                                            scoring='accuracy',\n",
    "                                            n_jobs=-1)\n",
    "    accuracy_scores_mean[model] = np.mean(accuracy_scores[model])\n",
    "    accuracy_scores_std[model] = np.std(accuracy_scores[model])\n",
    "\n",
    "    print(f\"{'-'*25} {model} {'-'*25}\")\n",
    "    print(f\"Accuracy: {accuracy_scores[model]}\")\n",
    "    print(f\"mean: {accuracy_scores_mean[model]:.4f}\\t\\tstd: {accuracy_scores_std[model]:.4f}\")"
   ]
  },
  {
   "cell_type": "markdown",
   "id": "631e17e0",
   "metadata": {},
   "source": [
    "  "
   ]
  },
  {
   "cell_type": "markdown",
   "id": "07692679",
   "metadata": {},
   "source": [
    "### k-fold cross validation, k = 5"
   ]
  },
  {
   "cell_type": "code",
   "execution_count": null,
   "id": "c16c273c",
   "metadata": {
    "id": "dacaae04",
    "outputId": "5487d6a6-9b10-4f8c-df96-897a0b4225a2"
   },
   "outputs": [
    {
     "name": "stdout",
     "output_type": "stream",
     "text": [
      "------------------------- k-Nearesr Neighbour -------------------------\n",
      "Accuracy: [0.76633333 0.68266667 0.74591667 0.76241667 0.73466667]\n",
      "mean: 0.7384\t\tstd: 0.0301\n",
      "------------------------- Random Forest -------------------------\n",
      "Accuracy: [0.68733333 0.68354167 0.69275    0.6875     0.69079167]\n",
      "mean: 0.6884\t\tstd: 0.0032\n",
      "------------------------- Artificial Neural Network -------------------------\n",
      "Accuracy: [0.61995833 0.5885     0.56341667 0.596875   0.62325   ]\n",
      "mean: 0.5984\t\tstd: 0.0219\n",
      "------------------------- Deep Neural Network -------------------------\n",
      "Accuracy: [0.61979167 0.59029167 0.629375   0.57554167 0.57770833]\n",
      "mean: 0.5985\t\tstd: 0.0221\n",
      "------------------------- XGBoost -------------------------\n",
      "Accuracy: [0.677125   0.68529167 0.68054167 0.68583333 0.68366667]\n",
      "mean: 0.6825\t\tstd: 0.0033\n"
     ]
    }
   ],
   "source": [
    "accuracy_scores = {}\n",
    "accuracy_scores_mean = {}\n",
    "accuracy_scores_std = {}\n",
    "\n",
    "cv = KFold(n_splits=5, shuffle=True)\n",
    "\n",
    "for model in models:\n",
    "    clf = models[model]\n",
    "\n",
    "    accuracy_scores[model] = cross_val_score(clf,\n",
    "                                            DDoS2019_X_scaled,\n",
    "                                            DDoS2019_y.values,\n",
    "                                            cv=cv,\n",
    "                                            scoring='accuracy',\n",
    "                                            n_jobs=-1)\n",
    "    accuracy_scores_mean[model] = np.mean(accuracy_scores[model])\n",
    "    accuracy_scores_std[model] = np.std(accuracy_scores[model])\n",
    "\n",
    "    print(f\"{'-'*25} {model} {'-'*25}\")\n",
    "    print(f\"Accuracy: {accuracy_scores[model]}\")\n",
    "    print(f\"mean: {accuracy_scores_mean[model]:.4f}\\t\\tstd: {accuracy_scores_std[model]:.4f}\")"
   ]
  },
  {
   "cell_type": "markdown",
   "id": "9f5e4af4",
   "metadata": {},
   "source": [
    "  "
   ]
  },
  {
   "cell_type": "markdown",
   "id": "09e8eab3",
   "metadata": {},
   "source": [
    "### k-fold cross validation, k = 3"
   ]
  },
  {
   "cell_type": "code",
   "execution_count": null,
   "id": "cfabea16",
   "metadata": {
    "colab": {
     "background_save": true,
     "base_uri": "https://localhost:8080/"
    },
    "id": "7e99dec1",
    "outputId": "82e8f9cc-dff7-4e32-f466-8a057de8e4ca"
   },
   "outputs": [
    {
     "name": "stdout",
     "output_type": "stream",
     "text": [
      "------------------------- k-Nearesr Neighbour -------------------------\n",
      "Accuracy: [0.763175 0.7445   0.76105 ]\n",
      "mean: 0.7562\t\tstd: 0.0083\n",
      "------------------------- Random Forest -------------------------\n",
      "Accuracy: [0.68935  0.686125 0.6832  ]\n",
      "mean: 0.6862\t\tstd: 0.0025\n",
      "------------------------- Artificial Neural Network -------------------------\n",
      "Accuracy: [0.622625 0.580075 0.628875]\n",
      "mean: 0.6105\t\tstd: 0.0217\n",
      "------------------------- Deep Neural Network -------------------------\n",
      "Accuracy: [0.5894   0.602425 0.5963  ]\n",
      "mean: 0.5960\t\tstd: 0.0053\n",
      "------------------------- XGBoost -------------------------\n",
      "Accuracy: [0.6844   0.676675 0.67645 ]\n",
      "mean: 0.6792\t\tstd: 0.0037\n"
     ]
    }
   ],
   "source": [
    "accuracy_scores = {}\n",
    "accuracy_scores_mean = {}\n",
    "accuracy_scores_std = {}\n",
    "\n",
    "cv = KFold(n_splits=3, shuffle=True)\n",
    "\n",
    "for model in models:\n",
    "    clf = models[model]\n",
    "\n",
    "    accuracy_scores[model] = cross_val_score(clf,\n",
    "                                            DDoS2019_X_scaled,\n",
    "                                            DDoS2019_y.values,\n",
    "                                            cv=cv,\n",
    "                                            scoring='accuracy',\n",
    "                                            n_jobs=-1)\n",
    "    accuracy_scores_mean[model] = np.mean(accuracy_scores[model])\n",
    "    accuracy_scores_std[model] = np.std(accuracy_scores[model])\n",
    "\n",
    "    print(f\"{'-'*25} {model} {'-'*25}\")\n",
    "    print(f\"Accuracy: {accuracy_scores[model]}\")\n",
    "    print(f\"mean: {accuracy_scores_mean[model]:.4f}\\t\\tstd: {accuracy_scores_std[model]:.4f}\")"
   ]
  },
  {
   "cell_type": "code",
   "execution_count": null,
   "id": "c1f1e2de",
   "metadata": {
    "id": "30325aa6"
   },
   "outputs": [],
   "source": []
  }
 ],
 "metadata": {
  "colab": {
   "name": "",
   "version": ""
  },
  "kernelspec": {
   "display_name": "Python 3",
   "language": "python",
   "name": "python3"
  },
  "language_info": {
   "codemirror_mode": {
    "name": "ipython",
    "version": 3
   },
   "file_extension": ".py",
   "mimetype": "text/x-python",
   "name": "python",
   "nbconvert_exporter": "python",
   "pygments_lexer": "ipython3",
   "version": "3.6.13"
  }
 },
 "nbformat": 4,
 "nbformat_minor": 5
}
