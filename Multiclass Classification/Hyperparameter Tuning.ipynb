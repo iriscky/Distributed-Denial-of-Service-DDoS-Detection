{
 "cells": [
  {
   "cell_type": "markdown",
   "id": "dc6e874a",
   "metadata": {},
   "source": [
    "### Hyperparameter Tuning"
   ]
  },
  {
   "cell_type": "code",
   "execution_count": 1,
   "id": "52bf82a0",
   "metadata": {},
   "outputs": [],
   "source": [
    "#Lib\n",
    "\n",
    "import pandas as pd\n",
    "import numpy as np\n",
    "\n",
    "np.random.seed(42) #reproducibity\n",
    "\n",
    "import xgboost as xgb\n",
    "from sklearn.ensemble import RandomForestClassifier\n",
    "from sklearn.neighbors import KNeighborsClassifier\n",
    "from sklearn.naive_bayes import GaussianNB\n",
    "from sklearn.neural_network import MLPClassifier\n",
    "\n",
    "from sklearn.metrics import accuracy_score\n",
    "\n",
    "\n",
    "from sklearn.model_selection import GridSearchCV  #tuning\n",
    "from sklearn.preprocessing import StandardScaler\n",
    "from sklearn.model_selection import train_test_split"
   ]
  },
  {
   "cell_type": "code",
   "execution_count": 2,
   "id": "45533096",
   "metadata": {},
   "outputs": [],
   "source": [
    "#load the saved top 30 features  file\n",
    "\n",
    "selected_features = pd.read_csv(r'Dataset/Feature selected/CICDDoS2019_Multiclass_RFClassifier_30.csv').squeeze()\n",
    "selected_features = selected_features[:20]\n"
   ]
  },
  {
   "cell_type": "code",
   "execution_count": 3,
   "id": "9a949f18",
   "metadata": {},
   "outputs": [
    {
     "data": {
      "text/plain": [
       "(300000, 32)"
      ]
     },
     "execution_count": 3,
     "metadata": {},
     "output_type": "execute_result"
    }
   ],
   "source": [
    "#load multiclass encoded data\n",
    "\n",
    "CICDDoS2019 = pd.read_csv(r'Dataset/Encoded Dataset/CIC-DDoS2019_multi.csv')\n",
    "\n",
    "\n",
    "# Create the 'columns' list using 'selected_features' and columns starting with 'Label_'\n",
    "columns = selected_features.tolist() + [col for col in CICDDoS2019.columns if col.startswith('Label_')]\n",
    "\n",
    "# Use the 'columns' list to select specific columns from 'CICDDoS2019'\n",
    "CICDDoS2019 = CICDDoS2019[columns]\n",
    "\n",
    "CICDDoS2019.shape\n"
   ]
  },
  {
   "cell_type": "code",
   "execution_count": 4,
   "id": "867a2b5a",
   "metadata": {
    "scrolled": false
   },
   "outputs": [
    {
     "name": "stdout",
     "output_type": "stream",
     "text": [
      "<class 'pandas.core.frame.DataFrame'>\n",
      "RangeIndex: 300000 entries, 0 to 299999\n",
      "Data columns (total 32 columns):\n",
      " #   Column                       Non-Null Count   Dtype  \n",
      "---  ------                       --------------   -----  \n",
      " 0   Avg Fwd Segment Size         300000 non-null  float64\n",
      " 1   Min Packet Length            300000 non-null  float64\n",
      " 2   Fwd Packet Length Max        300000 non-null  float64\n",
      " 3   Fwd Packet Length Mean       300000 non-null  float64\n",
      " 4   Average Packet Size          300000 non-null  float64\n",
      " 5   Packet Length Mean           300000 non-null  float64\n",
      " 6   Max Packet Length            300000 non-null  float64\n",
      " 7   Fwd Packet Length Min        300000 non-null  float64\n",
      " 8   Total Length of Fwd Packets  300000 non-null  float64\n",
      " 9   Subflow Fwd Bytes            300000 non-null  int64  \n",
      " 10  Flow Bytes/s                 300000 non-null  float64\n",
      " 11  ACK Flag Count               300000 non-null  int64  \n",
      " 12  Fwd IAT Total                300000 non-null  float64\n",
      " 13  Fwd IAT Std                  300000 non-null  float64\n",
      " 14  Flow IAT Mean                300000 non-null  float64\n",
      " 15  Fwd IAT Mean                 300000 non-null  float64\n",
      " 16  act_data_pkt_fwd             300000 non-null  int64  \n",
      " 17  Flow IAT Std                 300000 non-null  float64\n",
      " 18  Flow Duration                300000 non-null  int64  \n",
      " 19  Init_Win_bytes_forward       300000 non-null  int64  \n",
      " 20  Label_BENIGN                 300000 non-null  float64\n",
      " 21  Label_DrDoS_DNS              300000 non-null  float64\n",
      " 22  Label_DrDoS_LDAP             300000 non-null  float64\n",
      " 23  Label_DrDoS_MSSQL            300000 non-null  float64\n",
      " 24  Label_DrDoS_NTP              300000 non-null  float64\n",
      " 25  Label_DrDoS_NetBIOS          300000 non-null  float64\n",
      " 26  Label_DrDoS_SNMP             300000 non-null  float64\n",
      " 27  Label_DrDoS_SSDP             300000 non-null  float64\n",
      " 28  Label_DrDoS_UDP              300000 non-null  float64\n",
      " 29  Label_Syn                    300000 non-null  float64\n",
      " 30  Label_TFTP                   300000 non-null  float64\n",
      " 31  Label_UDP-lag                300000 non-null  float64\n",
      "dtypes: float64(27), int64(5)\n",
      "memory usage: 73.2 MB\n"
     ]
    }
   ],
   "source": [
    "CICDDoS2019.info()"
   ]
  },
  {
   "cell_type": "code",
   "execution_count": 5,
   "id": "43615fd2",
   "metadata": {
    "scrolled": false
   },
   "outputs": [
    {
     "name": "stdout",
     "output_type": "stream",
     "text": [
      "Class distribution for Label_BENIGN:\n",
      "0.0    110041\n",
      "1.0      9959\n",
      "Name: Label_BENIGN, dtype: int64\n",
      "\n",
      "Class distribution for Label_DrDoS_DNS:\n",
      "0.0    110015\n",
      "1.0      9985\n",
      "Name: Label_DrDoS_DNS, dtype: int64\n",
      "\n",
      "Class distribution for Label_DrDoS_LDAP:\n",
      "0.0    110001\n",
      "1.0      9999\n",
      "Name: Label_DrDoS_LDAP, dtype: int64\n",
      "\n",
      "Class distribution for Label_DrDoS_MSSQL:\n",
      "0.0    110038\n",
      "1.0      9962\n",
      "Name: Label_DrDoS_MSSQL, dtype: int64\n",
      "\n",
      "Class distribution for Label_DrDoS_NTP:\n",
      "0.0    109969\n",
      "1.0     10031\n",
      "Name: Label_DrDoS_NTP, dtype: int64\n",
      "\n",
      "Class distribution for Label_DrDoS_NetBIOS:\n",
      "0.0    110018\n",
      "1.0      9982\n",
      "Name: Label_DrDoS_NetBIOS, dtype: int64\n",
      "\n",
      "Class distribution for Label_DrDoS_SNMP:\n",
      "0.0    109894\n",
      "1.0     10106\n",
      "Name: Label_DrDoS_SNMP, dtype: int64\n",
      "\n",
      "Class distribution for Label_DrDoS_SSDP:\n",
      "0.0    109993\n",
      "1.0     10007\n",
      "Name: Label_DrDoS_SSDP, dtype: int64\n",
      "\n",
      "Class distribution for Label_DrDoS_UDP:\n",
      "0.0    110009\n",
      "1.0      9991\n",
      "Name: Label_DrDoS_UDP, dtype: int64\n",
      "\n",
      "Class distribution for Label_Syn:\n",
      "0.0    109861\n",
      "1.0     10139\n",
      "Name: Label_Syn, dtype: int64\n",
      "\n",
      "Class distribution for Label_TFTP:\n",
      "0.0    110067\n",
      "1.0      9933\n",
      "Name: Label_TFTP, dtype: int64\n",
      "\n",
      "Class distribution for Label_UDP-lag:\n",
      "0.0    110094\n",
      "1.0      9906\n",
      "Name: Label_UDP-lag, dtype: int64\n",
      "\n"
     ]
    }
   ],
   "source": [
    "\n",
    "target_columns = [col for col in CICDDoS2019.columns if col.startswith('Label_')]\n",
    "\n",
    "# Sample 10% of the data and reset the index\n",
    "CICDDoS2019_sampled = CICDDoS2019.sample(frac=0.4, random_state=42).reset_index(drop=True)\n",
    "\n",
    "# Print class distribution for each target column\n",
    "for column in target_columns:\n",
    "    print(f'Class distribution for {column}:')\n",
    "    print(CICDDoS2019_sampled[column].value_counts())\n",
    "    print()\n"
   ]
  },
  {
   "cell_type": "code",
   "execution_count": 6,
   "id": "eb69fa84",
   "metadata": {},
   "outputs": [],
   "source": [
    "# Separate features and labels \n",
    "\n",
    "DDoS2019_X = CICDDoS2019_sampled.drop(CICDDoS2019_sampled.filter(regex='^Label_'), axis=1).copy()\n",
    "DDoS2019_y = CICDDoS2019_sampled[CICDDoS2019_sampled.filter(regex='^Label_').columns].copy()\n",
    "\n",
    "# Split the dataset into training and testing sets\n",
    "DDoS2019_train_X, DDoS2019_test_X, DDoS2019_train_y, DDoS2019_test_y = train_test_split(DDoS2019_X, DDoS2019_y, test_size=0.2)"
   ]
  },
  {
   "cell_type": "code",
   "execution_count": 7,
   "id": "16cc7503",
   "metadata": {},
   "outputs": [],
   "source": [
    "#normalisation\n",
    "\n",
    "scalar = StandardScaler()\n",
    "\n",
    "DDoS2019_train_X_scaled = scalar.fit_transform(DDoS2019_train_X)\n",
    "DDoS2019_test_X_scaled = scalar.transform(DDoS2019_test_X)"
   ]
  },
  {
   "cell_type": "markdown",
   "id": "3ab24319",
   "metadata": {},
   "source": [
    "  "
   ]
  },
  {
   "cell_type": "markdown",
   "id": "40bbc942",
   "metadata": {},
   "source": [
    "## Defining hyperparameter configuration setting for each model "
   ]
  },
  {
   "cell_type": "markdown",
   "id": "1e5a85f9",
   "metadata": {},
   "source": [
    "### K-Nearest Neighbour"
   ]
  },
  {
   "cell_type": "code",
   "execution_count": 8,
   "id": "56f03580",
   "metadata": {},
   "outputs": [
    {
     "name": "stdout",
     "output_type": "stream",
     "text": [
      "Optimum hyperparameters:\n",
      "{'algorithm': 'auto', 'leaf_size': 30, 'metric': 'euclidean', 'n_neighbors': 5, 'p': 1, 'weights': 'distance'}\n",
      "CPU times: total: 7.44 s\n",
      "Wall time: 21min 28s\n"
     ]
    }
   ],
   "source": [
    "%%time\n",
    "# Define the parameter space\n",
    "parameter_space = [\n",
    "    {\n",
    "        'n_neighbors': [3, 5, 7],\n",
    "        'weights': ['uniform', 'distance'],\n",
    "        'metric': ['euclidean', 'manhattan'],\n",
    "        'algorithm': ['auto', 'ball_tree'],\n",
    "        'leaf_size': [30, 40, 50],\n",
    "        'p': [1, 2],\n",
    "    }\n",
    "]\n",
    "    \n",
    "    \n",
    "# Create the KNN classifier object\n",
    "knn = KNeighborsClassifier()\n",
    "\n",
    "# Create the GridSearchCV object\n",
    "optimal_knn = GridSearchCV(\n",
    "                        estimator=knn, \n",
    "                        param_grid=parameter_space,\n",
    "                        cv=5, \n",
    "                        scoring='accuracy', \n",
    "                        n_jobs=-1, \n",
    "                        verbose=0\n",
    ")\n",
    "\n",
    "# # Perform the grid search\n",
    "# start_time = time.time()\n",
    "optimal_knn.fit(DDoS2019_train_X_scaled, DDoS2019_train_y)\n",
    "# end_time = time.time()\n",
    "\n",
    "# Retrieve the best parameters\n",
    "knn_optimal_params = optimal_knn.best_params_\n",
    "print(\"Optimum hyperparameters:\")\n",
    "print(knn_optimal_params)\n",
    "# print(\"Execution time: {:.2f} seconds\".format(end_time - start_time))\n"
   ]
  },
  {
   "cell_type": "code",
   "execution_count": 9,
   "id": "2d5c75af",
   "metadata": {},
   "outputs": [
    {
     "name": "stdout",
     "output_type": "stream",
     "text": [
      "Accuracy: 0.75475\n"
     ]
    }
   ],
   "source": [
    "\n",
    "# Make predictions on the test data\n",
    "y_pred = optimal_knn.predict(DDoS2019_test_X_scaled)\n",
    "\n",
    "# Calculate accuracy\n",
    "accuracy = accuracy_score(DDoS2019_test_y, y_pred)\n",
    "\n",
    "print(f\"Accuracy: {accuracy}\")"
   ]
  },
  {
   "cell_type": "markdown",
   "id": "21ec3354",
   "metadata": {},
   "source": [
    "  "
   ]
  },
  {
   "cell_type": "markdown",
   "id": "0cf67f47",
   "metadata": {},
   "source": [
    "### Random Forest"
   ]
  },
  {
   "cell_type": "code",
   "execution_count": 10,
   "id": "52f00a52",
   "metadata": {},
   "outputs": [
    {
     "name": "stdout",
     "output_type": "stream",
     "text": [
      "Optimum hyperparameters: \n",
      "{'criterion': 'gini', 'max_depth': 30, 'min_samples_leaf': 1e-05, 'min_samples_split': 1e-05, 'n_estimators': 200}\n",
      "CPU times: total: 1min 24s\n",
      "Wall time: 2h 17min 54s\n"
     ]
    }
   ],
   "source": [
    "%%time\n",
    "\n",
    "parameter_space = [\n",
    "    {'criterion': ['gini', 'entropy'],\n",
    "    'max_depth': [10, 20, 30],\n",
    "    'min_samples_leaf': [3, 0.0001, 0.0005, 0.00001], \n",
    "    'min_samples_split': [8, 0.0005, 0.0001, 0.00001], \n",
    "    'n_estimators': [100, 200, 350]\n",
    "    }\n",
    "]\n",
    "\n",
    "optimal_rf = GridSearchCV(\n",
    "                        RandomForestClassifier(),\n",
    "                        parameter_space, \n",
    "                        cv=5,\n",
    "                        scoring='accuracy',\n",
    "                        n_jobs=-1,\n",
    "                        verbose=0\n",
    ")\n",
    "\n",
    "optimal_rf.fit(DDoS2019_train_X_scaled, DDoS2019_train_y)\n",
    "rf_optimal_params = optimal_rf.best_params_\n",
    "print(f\"Optimum hyperparameters: \\n{rf_optimal_params}\")"
   ]
  },
  {
   "cell_type": "code",
   "execution_count": 15,
   "id": "46ec7463",
   "metadata": {},
   "outputs": [
    {
     "name": "stdout",
     "output_type": "stream",
     "text": [
      "Accuracy: 0.6863333333333334\n"
     ]
    }
   ],
   "source": [
    "\n",
    "# Make predictions on the test data\n",
    "y_pred = optimal_rf.predict(DDoS2019_test_X_scaled)\n",
    "\n",
    "# Calculate accuracy\n",
    "accuracy = accuracy_score(DDoS2019_test_y, y_pred)\n",
    "\n",
    "print(f\"Accuracy: {accuracy}\")"
   ]
  },
  {
   "cell_type": "markdown",
   "id": "57a59e25",
   "metadata": {},
   "source": [
    "  "
   ]
  },
  {
   "cell_type": "markdown",
   "id": "7da9b372",
   "metadata": {},
   "source": [
    "### Artificial Neural Network"
   ]
  },
  {
   "cell_type": "code",
   "execution_count": 11,
   "id": "f9c28baf",
   "metadata": {},
   "outputs": [
    {
     "name": "stdout",
     "output_type": "stream",
     "text": [
      "Optimum hyperparameters: \n",
      "{'activation': 'relu', 'alpha': 0.001, 'hidden_layer_sizes': (50,), 'max_iter': 500, 'solver': 'adam'}\n",
      "CPU times: total: 52min 35s\n",
      "Wall time: 3h 15min 3s\n"
     ]
    }
   ],
   "source": [
    "%%time\n",
    "\n",
    "parameter_space = [\n",
    "    {'hidden_layer_sizes': [(10,), (20,), (30,), (40,), (50,)],\n",
    "    'activation': ['tanh', 'relu', 'logistic'],\n",
    "    'solver': ['adam', 'sgd'],\n",
    "    'alpha': [0.0001, 0.001, 0.00001],\n",
    "    'max_iter': [500, 1000] }\n",
    "]\n",
    "\n",
    "ann = MLPClassifier()\n",
    "\n",
    "optimal_ann = GridSearchCV(\n",
    "                        ann,\n",
    "                        parameter_space, \n",
    "                        cv=5,\n",
    "                        n_jobs=-1,\n",
    "                        verbose=0\n",
    ")\n",
    "\n",
    "optimal_ann.fit(DDoS2019_train_X_scaled, DDoS2019_train_y)\n",
    "ann_optimal_params = optimal_ann.best_params_\n",
    "print(f\"Optimum hyperparameters: \\n{ann_optimal_params}\")"
   ]
  },
  {
   "cell_type": "code",
   "execution_count": 13,
   "id": "f6b6f7d2",
   "metadata": {},
   "outputs": [
    {
     "name": "stdout",
     "output_type": "stream",
     "text": [
      "Accuracy: 0.6159583333333334\n"
     ]
    }
   ],
   "source": [
    "\n",
    "# Make predictions on the test data\n",
    "y_pred = optimal_ann.predict(DDoS2019_test_X_scaled)\n",
    "\n",
    "# Calculate accuracy\n",
    "accuracy = accuracy_score(DDoS2019_test_y, y_pred)\n",
    "\n",
    "print(f\"Accuracy: {accuracy}\")"
   ]
  },
  {
   "cell_type": "markdown",
   "id": "8d7fe7da",
   "metadata": {},
   "source": [
    "  "
   ]
  },
  {
   "cell_type": "markdown",
   "id": "24d1efe1",
   "metadata": {},
   "source": [
    "### Deep Neural Network"
   ]
  },
  {
   "cell_type": "code",
   "execution_count": 18,
   "id": "44fbfbaf",
   "metadata": {},
   "outputs": [
    {
     "name": "stdout",
     "output_type": "stream",
     "text": [
      "Optimum hyperparameters: \n",
      "{'activation': 'relu', 'alpha': 0.0001, 'hidden_layer_sizes': (15, 15, 15), 'max_iter': 2000, 'solver': 'adam'}\n",
      "CPU times: total: 3min 39s\n",
      "Wall time: 5h 15min 21s\n"
     ]
    }
   ],
   "source": [
    "%%time\n",
    "\n",
    "parameter_space = [\n",
    "    {'hidden_layer_sizes': [(10,10, 10), (12, 12, 12), (15, 15, 15), (8, 8, 8, 8), (10, 10, 10, 10)],\n",
    "    'activation': ['tanh', 'relu', 'logistic'],\n",
    "    'solver': ['adam', 'sgd'],\n",
    "    'alpha': [0.0001, 0.00001, 0.001],\n",
    "    'max_iter': [500, 1000, 2000]}\n",
    "]\n",
    "\n",
    "dnn = MLPClassifier()\n",
    "\n",
    "optimal_dnn = GridSearchCV(\n",
    "                        dnn,\n",
    "                        parameter_space, \n",
    "                        cv=5,\n",
    "                        n_jobs=-1,\n",
    "                        verbose=0\n",
    ")\n",
    "\n",
    "optimal_dnn.fit(DDoS2019_train_X_scaled, DDoS2019_train_y)\n",
    "dnn_optimal_params = optimal_dnn.best_params_\n",
    "print(f\"Optimum hyperparameters: \\n{dnn_optimal_params}\")"
   ]
  },
  {
   "cell_type": "code",
   "execution_count": 19,
   "id": "560b5224",
   "metadata": {},
   "outputs": [
    {
     "name": "stdout",
     "output_type": "stream",
     "text": [
      "Accuracy: 0.6648333333333334\n"
     ]
    }
   ],
   "source": [
    "\n",
    "# Make predictions on the test data\n",
    "y_pred = optimal_dnn.predict(DDoS2019_test_X_scaled)\n",
    "\n",
    "# Calculate accuracy\n",
    "accuracy = accuracy_score(DDoS2019_test_y, y_pred)\n",
    "\n",
    "print(f\"Accuracy: {accuracy}\")"
   ]
  },
  {
   "cell_type": "markdown",
   "id": "613fbc71",
   "metadata": {},
   "source": [
    "  "
   ]
  },
  {
   "cell_type": "markdown",
   "id": "42baf137",
   "metadata": {},
   "source": [
    "### Extreme Gradient Boosting"
   ]
  },
  {
   "cell_type": "code",
   "execution_count": 20,
   "id": "75314e7c",
   "metadata": {},
   "outputs": [
    {
     "name": "stdout",
     "output_type": "stream",
     "text": [
      "Optimum hyperparameters: \n",
      "{'colsample_bytree': 0.9, 'learning_rate': 0.4, 'max_depth': 6, 'min_child_weight': 1, 'n_estimators': 400, 'subsample': 0.8}\n",
      "CPU times: total: 1h 31min 39s\n",
      "Wall time: 9h 3min 26s\n"
     ]
    }
   ],
   "source": [
    "%%time\n",
    "\n",
    "# Define the parameter space for grid search\n",
    "parameter_space = [\n",
    "    {'n_estimators': [ 200, 300, 400],  # Number of boosting rounds\n",
    "    'learning_rate': [ 0.2, 0.3, 0.4],  # Learning rate (eta)\n",
    "    'max_depth': [4, 5, 6],  # Maximum tree depth\n",
    "    'min_child_weight': [1, 2, 3],  # Minimum sum of instance weight needed in a child\n",
    "    'subsample': [0.8, 0.9],  # Subsample ratio of the training instances\n",
    "    'colsample_bytree': [0.8, 0.9]  }\n",
    "]\n",
    "\n",
    "# Create the XGBoost classifier\n",
    "xgb_model = xgb.XGBClassifier()\n",
    "\n",
    "# Perform grid search with cross-validation\n",
    "optimal_xgb = GridSearchCV(\n",
    "    xgb_model,\n",
    "    parameter_space, \n",
    "    cv=5,\n",
    "    n_jobs=-1,\n",
    "    verbose=0\n",
    ")\n",
    "\n",
    "optimal_xgb.fit(DDoS2019_train_X_scaled, DDoS2019_train_y)\n",
    "xgb_optimal_params = optimal_xgb.best_params_\n",
    "print(f\"Optimum hyperparameters: \\n{xgb_optimal_params}\")\n"
   ]
  },
  {
   "cell_type": "code",
   "execution_count": 21,
   "id": "17c300b8",
   "metadata": {
    "scrolled": false
   },
   "outputs": [
    {
     "name": "stdout",
     "output_type": "stream",
     "text": [
      "Accuracy: 0.6775416666666667\n"
     ]
    }
   ],
   "source": [
    "\n",
    "# Make predictions on the test data\n",
    "y_pred = optimal_xgb.predict(DDoS2019_test_X_scaled)\n",
    "\n",
    "# Calculate accuracy\n",
    "accuracy = accuracy_score(DDoS2019_test_y, y_pred)\n",
    "\n",
    "print(f\"Accuracy: {accuracy}\")"
   ]
  },
  {
   "cell_type": "code",
   "execution_count": null,
   "id": "df86ce4e",
   "metadata": {},
   "outputs": [],
   "source": []
  }
 ],
 "metadata": {
  "kernelspec": {
   "display_name": "Python 3",
   "language": "python",
   "name": "python3"
  },
  "language_info": {
   "codemirror_mode": {
    "name": "ipython",
    "version": 3
   },
   "file_extension": ".py",
   "mimetype": "text/x-python",
   "name": "python",
   "nbconvert_exporter": "python",
   "pygments_lexer": "ipython3",
   "version": "3.6.13"
  }
 },
 "nbformat": 4,
 "nbformat_minor": 5
}
